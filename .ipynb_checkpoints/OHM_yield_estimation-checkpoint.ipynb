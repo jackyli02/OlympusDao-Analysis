{
 "cells": [
  {
   "cell_type": "markdown",
   "metadata": {},
   "source": [
    "# Estimation of OHM staking yield\n",
    "## By Jacky Li"
   ]
  },
  {
   "cell_type": "markdown",
   "metadata": {},
   "source": [
    "A personal project estimating the staking yield of OHM token. <br>\n",
    "All data queried from Dune Analytics. <br>\n",
    "Queries partially taken from @sha4dow on Dune Analytics."
   ]
  },
  {
   "cell_type": "code",
   "execution_count": 1,
   "metadata": {},
   "outputs": [],
   "source": [
    "import numpy as np\n",
    "import pandas as pd\n",
    "from scipy.optimize import curve_fit\n",
    "import matplotlib.pyplot as plt\n",
    "from sklearn import preprocessing\n",
    "from datetime import timedelta\n",
    "import datetime"
   ]
  },
  {
   "cell_type": "markdown",
   "metadata": {},
   "source": [
    "### Preprocessing and understanding the data"
   ]
  },
  {
   "cell_type": "markdown",
   "metadata": {},
   "source": [
    "Get the supply history of OHM"
   ]
  },
  {
   "cell_type": "code",
   "execution_count": 21,
   "metadata": {},
   "outputs": [],
   "source": [
    "supply = pd.read_csv(\"supply_history.csv\", header = None)"
   ]
  },
  {
   "cell_type": "code",
   "execution_count": 22,
   "metadata": {},
   "outputs": [],
   "source": [
    "supply = supply.dropna(axis = 'rows', how = 'all')\n",
    "supply = supply.dropna(axis = 'columns', how = 'all')"
   ]
  },
  {
   "cell_type": "code",
   "execution_count": 47,
   "metadata": {},
   "outputs": [],
   "source": [
    "supply = supply[::-1]\n",
    "supply.columns =[\"Date\", \"Total Supply\", \"Circulating Supply\", \"Index\"]"
   ]
  },
  {
   "cell_type": "code",
   "execution_count": 48,
   "metadata": {},
   "outputs": [
    {
     "data": {
      "text/html": [
       "<div>\n",
       "<style scoped>\n",
       "    .dataframe tbody tr th:only-of-type {\n",
       "        vertical-align: middle;\n",
       "    }\n",
       "\n",
       "    .dataframe tbody tr th {\n",
       "        vertical-align: top;\n",
       "    }\n",
       "\n",
       "    .dataframe thead th {\n",
       "        text-align: right;\n",
       "    }\n",
       "</style>\n",
       "<table border=\"1\" class=\"dataframe\">\n",
       "  <thead>\n",
       "    <tr style=\"text-align: right;\">\n",
       "      <th></th>\n",
       "      <th>Date</th>\n",
       "      <th>Total Supply</th>\n",
       "      <th>Circulating Supply</th>\n",
       "      <th>Index</th>\n",
       "    </tr>\n",
       "  </thead>\n",
       "  <tbody>\n",
       "    <tr>\n",
       "      <td>244</td>\n",
       "      <td>3/23/21</td>\n",
       "      <td>6.826000e+04</td>\n",
       "      <td>5.851802e+04</td>\n",
       "      <td>0.0000</td>\n",
       "    </tr>\n",
       "    <tr>\n",
       "      <td>243</td>\n",
       "      <td>3/24/21</td>\n",
       "      <td>6.826000e+04</td>\n",
       "      <td>5.864180e+04</td>\n",
       "      <td>0.0021</td>\n",
       "    </tr>\n",
       "    <tr>\n",
       "      <td>242</td>\n",
       "      <td>3/25/21</td>\n",
       "      <td>6.896281e+04</td>\n",
       "      <td>5.947480e+04</td>\n",
       "      <td>0.0164</td>\n",
       "    </tr>\n",
       "    <tr>\n",
       "      <td>241</td>\n",
       "      <td>3/26/21</td>\n",
       "      <td>6.974178e+04</td>\n",
       "      <td>6.047318e+04</td>\n",
       "      <td>0.0334</td>\n",
       "    </tr>\n",
       "    <tr>\n",
       "      <td>240</td>\n",
       "      <td>3/27/21</td>\n",
       "      <td>7.063727e+04</td>\n",
       "      <td>6.149922e+04</td>\n",
       "      <td>0.0509</td>\n",
       "    </tr>\n",
       "    <tr>\n",
       "      <td>...</td>\n",
       "      <td>...</td>\n",
       "      <td>...</td>\n",
       "      <td>...</td>\n",
       "      <td>...</td>\n",
       "    </tr>\n",
       "    <tr>\n",
       "      <td>4</td>\n",
       "      <td>11/18/21</td>\n",
       "      <td>5.477576e+06</td>\n",
       "      <td>4.514706e+06</td>\n",
       "      <td>76.1507</td>\n",
       "    </tr>\n",
       "    <tr>\n",
       "      <td>3</td>\n",
       "      <td>11/19/21</td>\n",
       "      <td>5.522418e+06</td>\n",
       "      <td>4.559767e+06</td>\n",
       "      <td>76.9207</td>\n",
       "    </tr>\n",
       "    <tr>\n",
       "      <td>2</td>\n",
       "      <td>11/20/21</td>\n",
       "      <td>5.581109e+06</td>\n",
       "      <td>4.621031e+06</td>\n",
       "      <td>77.9677</td>\n",
       "    </tr>\n",
       "    <tr>\n",
       "      <td>1</td>\n",
       "      <td>11/21/21</td>\n",
       "      <td>5.644007e+06</td>\n",
       "      <td>4.683242e+06</td>\n",
       "      <td>79.0308</td>\n",
       "    </tr>\n",
       "    <tr>\n",
       "      <td>0</td>\n",
       "      <td>11/22/21</td>\n",
       "      <td>5.665960e+06</td>\n",
       "      <td>4.705752e+06</td>\n",
       "      <td>79.4154</td>\n",
       "    </tr>\n",
       "  </tbody>\n",
       "</table>\n",
       "<p>245 rows × 4 columns</p>\n",
       "</div>"
      ],
      "text/plain": [
       "         Date  Total Supply  Circulating Supply    Index\n",
       "244   3/23/21  6.826000e+04        5.851802e+04   0.0000\n",
       "243   3/24/21  6.826000e+04        5.864180e+04   0.0021\n",
       "242   3/25/21  6.896281e+04        5.947480e+04   0.0164\n",
       "241   3/26/21  6.974178e+04        6.047318e+04   0.0334\n",
       "240   3/27/21  7.063727e+04        6.149922e+04   0.0509\n",
       "..        ...           ...                 ...      ...\n",
       "4    11/18/21  5.477576e+06        4.514706e+06  76.1507\n",
       "3    11/19/21  5.522418e+06        4.559767e+06  76.9207\n",
       "2    11/20/21  5.581109e+06        4.621031e+06  77.9677\n",
       "1    11/21/21  5.644007e+06        4.683242e+06  79.0308\n",
       "0    11/22/21  5.665960e+06        4.705752e+06  79.4154\n",
       "\n",
       "[245 rows x 4 columns]"
      ]
     },
     "execution_count": 48,
     "metadata": {},
     "output_type": "execute_result"
    }
   ],
   "source": [
    "supply"
   ]
  },
  {
   "cell_type": "code",
   "execution_count": 49,
   "metadata": {},
   "outputs": [],
   "source": [
    "dates = pd.date_range(\"2021-03-23\", \"2021-11-22\")"
   ]
  },
  {
   "cell_type": "markdown",
   "metadata": {},
   "source": [
    "We are interested in predicting the circulating supply in order to predict the reward rate, which allows us to calculate the yield"
   ]
  },
  {
   "cell_type": "code",
   "execution_count": 50,
   "metadata": {},
   "outputs": [
    {
     "data": {
      "image/png": "[encoded data removed]",
      "text/plain": [
       "<Figure size 432x288 with 1 Axes>"
      ]
     },
     "metadata": {
      "needs_background": "light"
     },
     "output_type": "display_data"
    }
   ],
   "source": [
    "#circulating supply\n",
    "plt.scatter(np.arange(245), supply.iloc[:,2])\n",
    "plt.show()"
   ]
  },
  {
   "cell_type": "markdown",
   "metadata": {},
   "source": [
    "From the plot, we see that circulating supply shows a exponential pattern, thus, try to fit a exponential function to the supply curve."
   ]
  },
  {
   "cell_type": "markdown",
   "metadata": {},
   "source": [
    "### Miscellaneous exploratory data analysis"
   ]
  },
  {
   "cell_type": "code",
   "execution_count": 64,
   "metadata": {},
   "outputs": [],
   "source": [
    "circ_supply = np.array(supply.iloc[:,2].tolist())"
   ]
  },
  {
   "cell_type": "code",
   "execution_count": 65,
   "metadata": {
    "scrolled": true
   },
   "outputs": [],
   "source": [
    "idx_std = np.arange(245)/244"
   ]
  },
  {
   "cell_type": "code",
   "execution_count": 66,
   "metadata": {},
   "outputs": [],
   "source": [
    "#increase in circulating supply and increase in total supply (past 30 days))\n",
    "d30_circ = circ_supply[-31:-1]\n",
    "tot_supply = np.array(supply.iloc[:,1].tolist())\n",
    "d30_tot = tot_supply[-31:-1]\n",
    "inc_circ = np.zeros(29)\n",
    "inc_tot = np.zeros(29)\n",
    "for i in np.arange(29):\n",
    "    inc_circ[i] = d30_circ[i+1] - d30_circ[i]\n",
    "    inc_tot[i] = d30_tot[i+1] - d30_tot[i]"
   ]
  },
  {
   "cell_type": "code",
   "execution_count": 67,
   "metadata": {},
   "outputs": [
    {
     "data": {
      "text/plain": [
       "<function matplotlib.pyplot.show(*args, **kw)>"
      ]
     },
     "execution_count": 67,
     "metadata": {},
     "output_type": "execute_result"
    },
    {
     "data": {
      "image/png": "[encoded data removed]",
      "text/plain": [
       "<Figure size 432x288 with 1 Axes>"
      ]
     },
     "metadata": {
      "needs_background": "light"
     },
     "output_type": "display_data"
    }
   ],
   "source": [
    "plt.plot(np.arange(29), inc_circ, color = 'red')\n",
    "plt.plot(np.arange(29), inc_tot)\n",
    "plt.show"
   ]
  },
  {
   "cell_type": "code",
   "execution_count": 68,
   "metadata": {},
   "outputs": [
    {
     "data": {
      "text/plain": [
       "<function matplotlib.pyplot.show(*args, **kw)>"
      ]
     },
     "execution_count": 68,
     "metadata": {},
     "output_type": "execute_result"
    },
    {
     "data": {
      "image/png": "[encoded data removed]",
      "text/plain": [
       "<Figure size 432x288 with 1 Axes>"
      ]
     },
     "metadata": {
      "needs_background": "light"
     },
     "output_type": "display_data"
    }
   ],
   "source": [
    "plt.plot(np.arange(30), d30_circ, color = 'red')\n",
    "plt.plot(np.arange(30), d30_tot)\n",
    "plt.show"
   ]
  },
  {
   "cell_type": "code",
   "execution_count": 69,
   "metadata": {},
   "outputs": [
    {
     "data": {
      "text/plain": [
       "<function matplotlib.pyplot.show(*args, **kw)>"
      ]
     },
     "execution_count": 69,
     "metadata": {},
     "output_type": "execute_result"
    },
    {
     "data": {
      "image/png": "[encoded data removed]",
      "text/plain": [
       "<Figure size 432x288 with 1 Axes>"
      ]
     },
     "metadata": {
      "needs_background": "light"
     },
     "output_type": "display_data"
    }
   ],
   "source": [
    "d60_circ = circ_supply[-61:-1]\n",
    "d60_tot = tot_supply[-61:-1]\n",
    "plt.plot(np.arange(60), d60_circ, color = 'red')\n",
    "plt.plot(np.arange(60), d60_tot)\n",
    "plt.show"
   ]
  },
  {
   "cell_type": "code",
   "execution_count": 70,
   "metadata": {},
   "outputs": [
    {
     "data": {
      "text/plain": [
       "<function matplotlib.pyplot.show(*args, **kw)>"
      ]
     },
     "execution_count": 70,
     "metadata": {},
     "output_type": "execute_result"
    },
    {
     "data": {
      "image/png": "[encoded data removed]",
      "text/plain": [
       "<Figure size 432x288 with 1 Axes>"
      ]
     },
     "metadata": {
      "needs_background": "light"
     },
     "output_type": "display_data"
    }
   ],
   "source": [
    "d90_circ = circ_supply[-91:-1]\n",
    "d90_tot = tot_supply[-91:-1]\n",
    "plt.plot(np.arange(90), d90_circ, color = 'red')\n",
    "plt.plot(np.arange(90), d90_tot)\n",
    "plt.show"
   ]
  },
  {
   "cell_type": "code",
   "execution_count": 71,
   "metadata": {},
   "outputs": [
    {
     "data": {
      "text/plain": [
       "<function matplotlib.pyplot.show(*args, **kw)>"
      ]
     },
     "execution_count": 71,
     "metadata": {},
     "output_type": "execute_result"
    },
    {
     "data": {
      "image/png": "[encoded data removed]",
      "text/plain": [
       "<Figure size 432x288 with 1 Axes>"
      ]
     },
     "metadata": {
      "needs_background": "light"
     },
     "output_type": "display_data"
    }
   ],
   "source": [
    "#how much of the increase in circulating supply comes from staking\n",
    "d30_circ_stk = np.zeros(30)\n",
    "d30_circ_stk[0] = d30_circ[0]\n",
    "for i in np.arange(29):\n",
    "    d30_circ_stk[i+1]=d30_circ_stk[i] * (1.002975)**3\n",
    "plt.plot(np.arange(30), d30_circ, color = 'red')\n",
    "plt.plot(np.arange(30), d30_circ_stk)\n",
    "plt.show"
   ]
  },
  {
   "cell_type": "markdown",
   "metadata": {},
   "source": [
    "significant amount of of increase in supply did not come from staking"
   ]
  },
  {
   "cell_type": "code",
   "execution_count": 72,
   "metadata": {},
   "outputs": [
    {
     "name": "stdout",
     "output_type": "stream",
     "text": [
      "[0.47918137 0.47027067 0.46077152 0.40357948 0.40386968 0.39636307\n",
      " 0.39127651 0.38724682 0.25151661 0.39215109 0.47129142 0.41326601\n",
      " 0.49985864 0.39524247 0.38870319 0.40378538 0.37595011 0.21135011\n",
      " 0.35941848 0.39337768 0.34379658 0.3369684  0.378974   0.35647785\n",
      " 0.34537102 0.34377411 0.10312884 0.33375134 0.33507107]\n"
     ]
    }
   ],
   "source": [
    "#how much exactly does staking reward constitutes in each day's supply\n",
    "d30_stk_pct = np.zeros(29)\n",
    "for i in np.arange(29):\n",
    "    d30_stk_pct[i] = (d30_circ[i+1] - d30_circ[i] * (1.002975)**3)/(d30_circ[i+1] - d30_circ[i])\n",
    "print(d30_stk_pct)"
   ]
  },
  {
   "cell_type": "markdown",
   "metadata": {},
   "source": [
    "Not much!"
   ]
  },
  {
   "cell_type": "markdown",
   "metadata": {},
   "source": [
    "### Fitting and predicting OHM supply"
   ]
  },
  {
   "cell_type": "code",
   "execution_count": 60,
   "metadata": {},
   "outputs": [],
   "source": [
    "def exponential (x,a,b,c):\n",
    "    return a*np.exp(b*x)+c"
   ]
  },
  {
   "cell_type": "code",
   "execution_count": 61,
   "metadata": {},
   "outputs": [],
   "source": [
    "params, covs = curve_fit(exponential, idx_std, circ_supply)"
   ]
  },
  {
   "cell_type": "code",
   "execution_count": 62,
   "metadata": {},
   "outputs": [
    {
     "data": {
      "text/plain": [
       "array([ 1.40268811e+05,  3.55591906e+00, -1.00584911e+05])"
      ]
     },
     "execution_count": 62,
     "metadata": {},
     "output_type": "execute_result"
    }
   ],
   "source": [
    "a, b, c = params\n",
    "params"
   ]
  },
  {
   "cell_type": "markdown",
   "metadata": {},
   "source": [
    "Thus, the supply $y$ follow the formula with respect to $x$ (days since 3/23/21): $y=140268e^{3.56x}-100584$"
   ]
  },
  {
   "cell_type": "code",
   "execution_count": 63,
   "metadata": {},
   "outputs": [
    {
     "data": {
      "text/plain": [
       "4811627.52438348"
      ]
     },
     "execution_count": 63,
     "metadata": {},
     "output_type": "execute_result"
    }
   ],
   "source": [
    "y_pred = a*np.exp(idx_std*b)+c\n",
    "y_pred[-1]"
   ]
  },
  {
   "cell_type": "markdown",
   "metadata": {},
   "source": [
    "Compare the predicted value with the labels"
   ]
  },
  {
   "cell_type": "code",
   "execution_count": 137,
   "metadata": {},
   "outputs": [
    {
     "data": {
      "image/png": "[encoded data removed]",
      "text/plain": [
       "<Figure size 432x288 with 1 Axes>"
      ]
     },
     "metadata": {
      "needs_background": "light"
     },
     "output_type": "display_data"
    }
   ],
   "source": [
    "plt.scatter(np.arange(245), y_pred)\n",
    "plt.scatter(np.arange(245), circ_supply)\n",
    "plt.show()"
   ]
  },
  {
   "cell_type": "markdown",
   "metadata": {},
   "source": [
    "### Find the corresponding reward rate based on the supply schedule"
   ]
  },
  {
   "cell_type": "code",
   "execution_count": 184,
   "metadata": {},
   "outputs": [
    {
     "name": "stdout",
     "output_type": "stream",
     "text": [
      "2022-01-10 00:00:00\n"
     ]
    }
   ],
   "source": [
    "#find the day circulating supply reaches 10m\n",
    "days_till_10m = np.log((10000000-c)/a)/b\n",
    "start_time = pd.to_datetime('2021-3-23')\n",
    "date_10m = start_time + timedelta(int(days_till_10m*244))\n",
    "print(date_10m)"
   ]
  },
  {
   "cell_type": "code",
   "execution_count": 153,
   "metadata": {},
   "outputs": [
    {
     "name": "stdout",
     "output_type": "stream",
     "text": [
      "2022-06-16 00:00:00\n"
     ]
    }
   ],
   "source": [
    "#find the day circ supply reaches 100m\n",
    "days_till_100m = np.log((100000000-c)/a)/b\n",
    "date_100m = start_time + timedelta(int(days_till_100m*244))\n",
    "print(date_100m)"
   ]
  },
  {
   "cell_type": "code",
   "execution_count": 154,
   "metadata": {},
   "outputs": [
    {
     "name": "stdout",
     "output_type": "stream",
     "text": [
      "2022-11-21 00:00:00\n"
     ]
    }
   ],
   "source": [
    "#find the day circ supply reaches 1b\n",
    "days_till_1b = np.log((1000000000-c)/a)/b\n",
    "date_1b = start_time + timedelta(int(days_till_1b*244))\n",
    "print(date_1b)"
   ]
  },
  {
   "cell_type": "markdown",
   "metadata": {},
   "source": [
    "According to OlympusDao documents, the reward rate per epoch when the supply is between 10 and 100m will be between 0.1186% to 0.1587%. Thus, we propose three cases for the reward rate, being low, mid, high, respectivly."
   ]
  },
  {
   "cell_type": "code",
   "execution_count": 73,
   "metadata": {},
   "outputs": [],
   "source": [
    "#based on the exponential model, what would be the yield like\n",
    "rate_10m = (1+(0.002957/0.9))**3\n",
    "rate_100m_h = (1+(0.001587/0.9))**3\n",
    "rate_100m_m = (1+(0.0013/0.9))**3\n",
    "rate_100m_l = (1+(0.001186/0.9))**3\n",
    "init_ohm = 2\n",
    "init_date = pd.to_datetime('2021-11-23')"
   ]
  },
  {
   "cell_type": "code",
   "execution_count": null,
   "metadata": {},
   "outputs": [],
   "source": []
  },
  {
   "cell_type": "markdown",
   "metadata": {},
   "source": []
  },
  {
   "cell_type": "code",
   "execution_count": 221,
   "metadata": {},
   "outputs": [
    {
     "name": "stdout",
     "output_type": "stream",
     "text": [
      "[2.         2.01977817 2.03975194 2.05992322 2.08029398 2.10086619\n",
      " 2.12164183 2.14262293 2.16381152 2.18520964 2.20681937 2.22864279\n",
      " 2.25068204 2.27293923 2.29541652 2.31811609 2.34104014 2.36419089\n",
      " 2.38757058 2.41118147 2.43502586 2.45910604 2.48342435 2.50798315\n",
      " 2.53278481 2.55783174 2.58312636 2.60867112 2.6344685  2.66052099\n",
      " 2.68683111 2.71340141 2.74023448 2.76733289 2.79469929 2.82233631\n",
      " 2.85024664 2.87843298 2.90689805 2.93564462 2.96467546 2.99399339\n",
      " 3.02360125 3.05350191 3.08369826 3.11419321 3.14498974 3.17609082\n",
      " 3.20749946 3.22449706 3.24158475 3.25876299 3.27603226 3.29339305\n",
      " 3.31084584 3.32839111 3.34602937 3.36376109 3.38158679 3.39950694\n",
      " 3.41752206 3.43563265 3.45383921 3.47214226 3.4905423  3.50903985\n",
      " 3.52763542 3.54632954 3.56512272 3.58401549 3.60300839 3.62210193\n",
      " 3.64129666 3.6605931  3.67999181 3.69949331 3.71909816 3.7388069\n",
      " 3.75862009 3.77853827 3.798562   3.81869185 3.83892837 3.85927213\n",
      " 3.8797237  3.90028365 3.92095256 3.94173099 3.96261954 3.98361878\n",
      " 4.00472931 4.0259517  4.04728656 4.06873448 4.09029606 4.11197191\n",
      " 4.13376262 4.15566881 4.17769108 4.19983006 4.22208636 4.2444606\n",
      " 4.26695341 4.28956542 4.31229726 4.33514956 4.35812297 4.38121811\n",
      " 4.40443565 4.42777622 4.45124049 4.47482909 4.49854271 4.52238198\n",
      " 4.54634759 4.57044021 4.59466049 4.61900913 4.6434868  4.66809419\n",
      " 4.69283197 4.71770086 4.74270153 4.76783468 4.79310103 4.81850127\n",
      " 4.84403612 4.86970628 4.89551248 4.92145543 4.94753586 4.97375451\n",
      " 5.00011209 5.02660935 5.05324703 5.08002587 5.10694662 5.13401004\n",
      " 5.16121687 5.18856788 5.21606383 5.24370549 5.27149364 5.29942904\n",
      " 5.32751248 5.35574475 5.38412662 5.41265891 5.44134239 5.47017788\n",
      " 5.49916618 5.52830809 5.55760444 5.58705604 5.61666371 5.64642829\n",
      " 5.67635059 5.70643147 5.73667175 5.76707229 5.79763393 5.82835753\n",
      " 5.85924394 5.89029402 5.92150866 5.95288871 5.98443505 6.01614857\n",
      " 6.04803014 6.08008067 6.11230105 6.14469217 6.17725494 6.20999028\n",
      " 6.24289909 6.27598229 6.30924081 6.34267558 6.37628754 6.41007761\n",
      " 6.44404675 6.4781959  6.51252603 6.54703807 6.58173301 6.61661181\n",
      " 6.65167544 6.68692489 6.72236113 6.75798517 6.79379798 6.82980059\n",
      " 6.86599398 6.90237917 6.93895718 6.97572903 7.01269574 7.04985836\n",
      " 7.08721791 7.12477544 7.162532   7.20048864 7.23864644 7.27700644\n",
      " 7.31556972 7.35433736]\n"
     ]
    },
    {
     "data": {
      "text/plain": [
       "<function matplotlib.pyplot.show(*args, **kw)>"
      ]
     },
     "execution_count": 221,
     "metadata": {},
     "output_type": "execute_result"
    },
    {
     "data": {
      "image/png": "[encoded data removed]",
      "text/plain": [
       "<Figure size 432x288 with 1 Axes>"
      ]
     },
     "metadata": {
      "needs_background": "light"
     },
     "output_type": "display_data"
    }
   ],
   "source": [
    "#amount of ohm owned till total supply reaches 100m\n",
    "days_till_100m = (date_100m - init_date).days\n",
    "days_till_10m = (date_10m - init_date).days\n",
    "#high\n",
    "iown_h = np.zeros(days_till_100m+1)\n",
    "iown_h[0] = init_ohm\n",
    "for i in np.arange(days_till_10m):\n",
    "    iown_h[i+1] = iown_h[i] * rate_10m\n",
    "for i in np.arange(days_till_10m, days_till_100m):\n",
    "    iown_h[i+1] = iown_h[i] * rate_100m_h\n",
    "print(iown_h)\n",
    "plt.plot(np.arange(days_till_100m+1), iown_h, color = 'red')\n",
    "plt.show"
   ]
  },
  {
   "cell_type": "code",
   "execution_count": 222,
   "metadata": {},
   "outputs": [
    {
     "name": "stdout",
     "output_type": "stream",
     "text": [
      "[2.         2.01977817 2.03975194 2.05992322 2.08029398 2.10086619\n",
      " 2.12164183 2.14262293 2.16381152 2.18520964 2.20681937 2.22864279\n",
      " 2.25068204 2.27293923 2.29541652 2.31811609 2.34104014 2.36419089\n",
      " 2.38757058 2.41118147 2.43502586 2.45910604 2.48342435 2.50798315\n",
      " 2.53278481 2.55783174 2.58312636 2.60867112 2.6344685  2.66052099\n",
      " 2.68683111 2.71340141 2.74023448 2.76733289 2.79469929 2.82233631\n",
      " 2.85024664 2.87843298 2.90689805 2.93564462 2.96467546 2.99399339\n",
      " 3.02360125 3.05350191 3.08369826 3.11419321 3.14498974 3.17609082\n",
      " 3.20749946 3.22141871 3.23539836 3.24943868 3.26353993 3.27770237\n",
      " 3.29192628 3.30621191 3.32055953 3.33496941 3.34944183 3.36397706\n",
      " 3.37857536 3.39323701 3.40796228 3.42275146 3.43760482 3.45252263\n",
      " 3.46750519 3.48255276 3.49766563 3.51284408 3.5280884  3.54339888\n",
      " 3.5587758  3.57421945 3.58973011 3.60530809 3.62095367 3.63666714\n",
      " 3.65244881 3.66829896 3.68421789 3.70020591 3.71626331 3.73239039\n",
      " 3.74858745 3.76485481 3.78119275 3.7976016  3.81408166 3.83063323\n",
      " 3.84725663 3.86395216 3.88072015 3.89756091 3.91447475 3.93146199\n",
      " 3.94852294 3.96565793 3.98286729 4.00015132 4.01751036 4.03494473\n",
      " 4.05245476 4.07004077 4.0877031  4.10544208 4.12325804 4.14115131\n",
      " 4.15912223 4.17717114 4.19529838 4.21350427 4.23178918 4.25015343\n",
      " 4.26859738 4.28712137 4.30572574 4.32441085 4.34317704 4.36202467\n",
      " 4.3809541  4.39996567 4.41905974 4.43823667 4.45749682 4.47684056\n",
      " 4.49626823 4.51578022 4.53537688 4.55505858 4.57482569 4.59467859\n",
      " 4.61461763 4.63464321 4.65475569 4.67495544 4.69524286 4.71561831\n",
      " 4.73608219 4.75663487 4.77727674 4.79800819 4.81882961 4.83974138\n",
      " 4.8607439  4.88183756 4.90302277 4.9242999  4.94566937 4.96713158\n",
      " 4.98868692 5.0103358  5.03207863 5.05391582 5.07584777 5.0978749\n",
      " 5.11999761 5.14221633 5.16453147 5.18694345 5.20945269 5.2320596\n",
      " 5.25476463 5.27756818 5.30047069 5.32347259 5.34657431 5.36977628\n",
      " 5.39307894 5.41648272 5.43998806 5.46359541 5.48730521 5.51111789\n",
      " 5.53503392 5.55905373 5.58317777 5.6074065  5.63174038 5.65617986\n",
      " 5.68072539 5.70537744 5.73013647 5.75500295 5.77997733 5.8050601\n",
      " 5.83025171 5.85555264 5.88096337 5.90648438 5.93211613 5.95785912\n",
      " 5.98371382 6.00968071 6.0357603  6.06195306 6.08825948 6.11468007\n",
      " 6.1412153  6.1678657  6.19463174 6.22151393 6.24851279 6.27562881\n",
      " 6.3028625  6.33021437]\n"
     ]
    },
    {
     "data": {
      "text/plain": [
       "<function matplotlib.pyplot.show(*args, **kw)>"
      ]
     },
     "execution_count": 222,
     "metadata": {},
     "output_type": "execute_result"
    },
    {
     "data": {
      "image/png": "[encoded data removed]",
      "text/plain": [
       "<Figure size 432x288 with 1 Axes>"
      ]
     },
     "metadata": {
      "needs_background": "light"
     },
     "output_type": "display_data"
    }
   ],
   "source": [
    "#mid\n",
    "iown_m = np.zeros(days_till_100m+1)\n",
    "iown_m[0] = init_ohm\n",
    "for i in np.arange(days_till_10m):\n",
    "    iown_m[i+1] = iown_m[i] * rate_10m\n",
    "for i in np.arange(days_till_10m, days_till_100m):\n",
    "    iown_m[i+1] = iown_m[i] * rate_100m_m\n",
    "print(iown_m)\n",
    "plt.plot(np.arange(days_till_100m+1), iown_m, color = 'red')\n",
    "plt.show"
   ]
  },
  {
   "cell_type": "code",
   "execution_count": 223,
   "metadata": {},
   "outputs": [
    {
     "name": "stdout",
     "output_type": "stream",
     "text": [
      "[2.         2.01977817 2.03975194 2.05992322 2.08029398 2.10086619\n",
      " 2.12164183 2.14262293 2.16381152 2.18520964 2.20681937 2.22864279\n",
      " 2.25068204 2.27293923 2.29541652 2.31811609 2.34104014 2.36419089\n",
      " 2.38757058 2.41118147 2.43502586 2.45910604 2.48342435 2.50798315\n",
      " 2.53278481 2.55783174 2.58312636 2.60867112 2.6344685  2.66052099\n",
      " 2.68683111 2.71340141 2.74023448 2.76733289 2.79469929 2.82233631\n",
      " 2.85024664 2.87843298 2.90689805 2.93564462 2.96467546 2.99399339\n",
      " 3.02360125 3.05350191 3.08369826 3.11419321 3.14498974 3.17609082\n",
      " 3.20749946 3.22019649 3.23294378 3.24574153 3.25858995 3.27148923\n",
      " 3.28443956 3.29744117 3.31049424 3.32359898 3.33675559 3.34996429\n",
      " 3.36322528 3.37653876 3.38990494 3.40332403 3.41679624 3.43032178\n",
      " 3.44390087 3.45753371 3.47122051 3.48496149 3.49875687 3.51260686\n",
      " 3.52651167 3.54047153 3.55448664 3.56855724 3.58268354 3.59686575\n",
      " 3.61110411 3.62539883 3.63975013 3.65415825 3.6686234  3.68314581\n",
      " 3.69772571 3.71236332 3.72705888 3.74181261 3.75662475 3.77149551\n",
      " 3.78642515 3.80141389 3.81646195 3.83156959 3.84673703 3.86196452\n",
      " 3.87725228 3.89260056 3.90800959 3.92347962 3.9390109  3.95460365\n",
      " 3.97025813 3.98597457 4.00175323 4.01759435 4.03349818 4.04946497\n",
      " 4.06549496 4.0815884  4.09774556 4.11396667 4.13025199 4.14660178\n",
      " 4.16301629 4.17949578 4.1960405  4.21265072 4.22932669 4.24606867\n",
      " 4.26287692 4.27975171 4.2966933  4.31370196 4.33077794 4.34792152\n",
      " 4.36513297 4.38241254 4.39976052 4.41717717 4.43466277 4.45221758\n",
      " 4.46984189 4.48753596 4.50530007 4.52313451 4.54103954 4.55901545\n",
      " 4.57706252 4.59518103 4.61337126 4.6316335  4.64996803 4.66837514\n",
      " 4.68685511 4.70540824 4.72403481 4.74273512 4.76150945 4.7803581\n",
      " 4.79928136 4.81827954 4.83735291 4.85650179 4.87572647 4.89502726\n",
      " 4.91440445 4.93385834 4.95338924 4.97299745 4.99268329 5.01244705\n",
      " 5.03228905 5.0522096  5.072209   5.09228756 5.11244561 5.13268346\n",
      " 5.15300142 5.17339981 5.19387895 5.21443915 5.23508075 5.25580405\n",
      " 5.27660939 5.29749709 5.31846747 5.33952086 5.3606576  5.381878\n",
      " 5.40318241 5.42457115 5.44604456 5.46760297 5.48924673 5.51097616\n",
      " 5.53279161 5.55469341 5.57668192 5.59875747 5.6209204  5.64317107\n",
      " 5.66550982 5.68793699 5.71045295 5.73305804 5.75575261 5.77853701\n",
      " 5.80141161 5.82437676 5.84743282 5.87058015 5.89381911 5.91715006\n",
      " 5.94057336 5.96408939]\n"
     ]
    },
    {
     "data": {
      "text/plain": [
       "<function matplotlib.pyplot.show(*args, **kw)>"
      ]
     },
     "execution_count": 223,
     "metadata": {},
     "output_type": "execute_result"
    },
    {
     "data": {
      "image/png": "[encoded data removed]",
      "text/plain": [
       "<Figure size 432x288 with 1 Axes>"
      ]
     },
     "metadata": {
      "needs_background": "light"
     },
     "output_type": "display_data"
    }
   ],
   "source": [
    "#low\n",
    "iown_l = np.zeros(days_till_100m+1)\n",
    "iown_l[0] = init_ohm\n",
    "for i in np.arange(days_till_10m):\n",
    "    iown_l[i+1] = iown_l[i] * rate_10m\n",
    "for i in np.arange(days_till_10m, days_till_100m):\n",
    "    iown_l[i+1] = iown_l[i] * rate_100m_l\n",
    "print(iown_l)\n",
    "plt.plot(np.arange(days_till_100m+1), iown_l, color = 'red')\n",
    "plt.show"
   ]
  }
 ],
 "metadata": {
  "kernelspec": {
   "display_name": "Python 3",
   "language": "python",
   "name": "python3"
  },
  "language_info": {
   "codemirror_mode": {
    "name": "ipython",
    "version": 3
   },
   "file_extension": ".py",
   "mimetype": "text/x-python",
   "name": "python",
   "nbconvert_exporter": "python",
   "pygments_lexer": "ipython3",
   "version": "3.7.4"
  }
 },
 "nbformat": 4,
 "nbformat_minor": 2
}
