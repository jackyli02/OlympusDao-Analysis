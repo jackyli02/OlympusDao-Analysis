{
 "cells": [
  {
   "cell_type": "markdown",
   "metadata": {},
   "source": [
    "# Estimation of OHM staking yield\n",
    "## By Jacky Li"
   ]
  },
  {
   "cell_type": "markdown",
   "metadata": {},
   "source": [
    "A personal project estimating the staking yield of OHM token. <br>\n",
    "All data queried from Dune Analytics. <br>\n",
    "Queries partially taken from @sha4dow on Dune Analytics."
   ]
  },
  {
   "cell_type": "code",
   "execution_count": 1,
   "metadata": {},
   "outputs": [],
   "source": [
    "import numpy as np\n",
    "import pandas as pd\n",
    "from scipy.optimize import curve_fit\n",
    "import matplotlib.pyplot as plt\n",
    "from sklearn import preprocessing\n",
    "from datetime import timedelta\n",
    "import datetime"
   ]
  },
  {
   "cell_type": "markdown",
   "metadata": {},
   "source": [
    "### Preprocessing and understanding the data"
   ]
  },
  {
   "cell_type": "markdown",
   "metadata": {},
   "source": [
    "Get the supply history of OHM"
   ]
  },
  {
   "cell_type": "code",
   "execution_count": 2,
   "metadata": {},
   "outputs": [],
   "source": [
    "supply = pd.read_csv(\"supply_history.csv\", header = None)"
   ]
  },
  {
   "cell_type": "code",
   "execution_count": 3,
   "metadata": {},
   "outputs": [],
   "source": [
    "supply = supply.dropna(axis = 'rows', how = 'all')\n",
    "supply = supply.dropna(axis = 'columns', how = 'all')"
   ]
  },
  {
   "cell_type": "code",
   "execution_count": 4,
   "metadata": {},
   "outputs": [],
   "source": [
    "supply = supply[::-1]\n",
    "supply.columns =[\"Date\", \"Total Supply\", \"Circulating Supply\", \"Index\"]"
   ]
  },
  {
   "cell_type": "code",
   "execution_count": 5,
   "metadata": {},
   "outputs": [
    {
     "data": {
      "text/html": [
       "<div>\n",
       "<style scoped>\n",
       "    .dataframe tbody tr th:only-of-type {\n",
       "        vertical-align: middle;\n",
       "    }\n",
       "\n",
       "    .dataframe tbody tr th {\n",
       "        vertical-align: top;\n",
       "    }\n",
       "\n",
       "    .dataframe thead th {\n",
       "        text-align: right;\n",
       "    }\n",
       "</style>\n",
       "<table border=\"1\" class=\"dataframe\">\n",
       "  <thead>\n",
       "    <tr style=\"text-align: right;\">\n",
       "      <th></th>\n",
       "      <th>Date</th>\n",
       "      <th>Total Supply</th>\n",
       "      <th>Circulating Supply</th>\n",
       "      <th>Index</th>\n",
       "    </tr>\n",
       "  </thead>\n",
       "  <tbody>\n",
       "    <tr>\n",
       "      <td>244</td>\n",
       "      <td>3/23/21</td>\n",
       "      <td>6.826000e+04</td>\n",
       "      <td>5.851802e+04</td>\n",
       "      <td>0.0000</td>\n",
       "    </tr>\n",
       "    <tr>\n",
       "      <td>243</td>\n",
       "      <td>3/24/21</td>\n",
       "      <td>6.826000e+04</td>\n",
       "      <td>5.864180e+04</td>\n",
       "      <td>0.0021</td>\n",
       "    </tr>\n",
       "    <tr>\n",
       "      <td>242</td>\n",
       "      <td>3/25/21</td>\n",
       "      <td>6.896281e+04</td>\n",
       "      <td>5.947480e+04</td>\n",
       "      <td>0.0164</td>\n",
       "    </tr>\n",
       "    <tr>\n",
       "      <td>241</td>\n",
       "      <td>3/26/21</td>\n",
       "      <td>6.974178e+04</td>\n",
       "      <td>6.047318e+04</td>\n",
       "      <td>0.0334</td>\n",
       "    </tr>\n",
       "    <tr>\n",
       "      <td>240</td>\n",
       "      <td>3/27/21</td>\n",
       "      <td>7.063727e+04</td>\n",
       "      <td>6.149922e+04</td>\n",
       "      <td>0.0509</td>\n",
       "    </tr>\n",
       "    <tr>\n",
       "      <td>...</td>\n",
       "      <td>...</td>\n",
       "      <td>...</td>\n",
       "      <td>...</td>\n",
       "      <td>...</td>\n",
       "    </tr>\n",
       "    <tr>\n",
       "      <td>4</td>\n",
       "      <td>11/18/21</td>\n",
       "      <td>5.477576e+06</td>\n",
       "      <td>4.514706e+06</td>\n",
       "      <td>76.1507</td>\n",
       "    </tr>\n",
       "    <tr>\n",
       "      <td>3</td>\n",
       "      <td>11/19/21</td>\n",
       "      <td>5.522418e+06</td>\n",
       "      <td>4.559767e+06</td>\n",
       "      <td>76.9207</td>\n",
       "    </tr>\n",
       "    <tr>\n",
       "      <td>2</td>\n",
       "      <td>11/20/21</td>\n",
       "      <td>5.581109e+06</td>\n",
       "      <td>4.621031e+06</td>\n",
       "      <td>77.9677</td>\n",
       "    </tr>\n",
       "    <tr>\n",
       "      <td>1</td>\n",
       "      <td>11/21/21</td>\n",
       "      <td>5.644007e+06</td>\n",
       "      <td>4.683242e+06</td>\n",
       "      <td>79.0308</td>\n",
       "    </tr>\n",
       "    <tr>\n",
       "      <td>0</td>\n",
       "      <td>11/22/21</td>\n",
       "      <td>5.665960e+06</td>\n",
       "      <td>4.705752e+06</td>\n",
       "      <td>79.4154</td>\n",
       "    </tr>\n",
       "  </tbody>\n",
       "</table>\n",
       "<p>245 rows × 4 columns</p>\n",
       "</div>"
      ],
      "text/plain": [
       "         Date  Total Supply  Circulating Supply    Index\n",
       "244   3/23/21  6.826000e+04        5.851802e+04   0.0000\n",
       "243   3/24/21  6.826000e+04        5.864180e+04   0.0021\n",
       "242   3/25/21  6.896281e+04        5.947480e+04   0.0164\n",
       "241   3/26/21  6.974178e+04        6.047318e+04   0.0334\n",
       "240   3/27/21  7.063727e+04        6.149922e+04   0.0509\n",
       "..        ...           ...                 ...      ...\n",
       "4    11/18/21  5.477576e+06        4.514706e+06  76.1507\n",
       "3    11/19/21  5.522418e+06        4.559767e+06  76.9207\n",
       "2    11/20/21  5.581109e+06        4.621031e+06  77.9677\n",
       "1    11/21/21  5.644007e+06        4.683242e+06  79.0308\n",
       "0    11/22/21  5.665960e+06        4.705752e+06  79.4154\n",
       "\n",
       "[245 rows x 4 columns]"
      ]
     },
     "execution_count": 5,
     "metadata": {},
     "output_type": "execute_result"
    }
   ],
   "source": [
    "supply"
   ]
  },
  {
   "cell_type": "code",
   "execution_count": 6,
   "metadata": {},
   "outputs": [],
   "source": [
    "dates = pd.date_range(\"2021-03-23\", \"2021-11-22\")"
   ]
  },
  {
   "cell_type": "markdown",
   "metadata": {},
   "source": [
    "We are interested in predicting the circulating supply in order to predict the reward rate, which allows us to calculate the yield"
   ]
  },
  {
   "cell_type": "code",
   "execution_count": 7,
   "metadata": {},
   "outputs": [
    {
     "data": {
      "image/png": "[encoded data removed]",
      "text/plain": [
       "<Figure size 432x288 with 1 Axes>"
      ]
     },
     "metadata": {
      "needs_background": "light"
     },
     "output_type": "display_data"
    }
   ],
   "source": [
    "#circulating supply\n",
    "plt.scatter(np.arange(245), supply.iloc[:,2])\n",
    "plt.show()"
   ]
  },
  {
   "cell_type": "markdown",
   "metadata": {},
   "source": [
    "From the plot, we see that circulating supply shows a exponential pattern, thus, try to fit a exponential function to the supply curve."
   ]
  },
  {
   "cell_type": "markdown",
   "metadata": {},
   "source": [
    "### Miscellaneous exploratory data analysis"
   ]
  },
  {
   "cell_type": "code",
   "execution_count": 8,
   "metadata": {},
   "outputs": [],
   "source": [
    "circ_supply = np.array(supply.iloc[:,2].tolist())"
   ]
  },
  {
   "cell_type": "code",
   "execution_count": 9,
   "metadata": {
    "scrolled": true
   },
   "outputs": [],
   "source": [
    "idx_std = np.arange(245)/244"
   ]
  },
  {
   "cell_type": "code",
   "execution_count": 10,
   "metadata": {},
   "outputs": [],
   "source": [
    "#increase in circulating supply and increase in total supply (past 30 days))\n",
    "d30_circ = circ_supply[-31:-1]\n",
    "tot_supply = np.array(supply.iloc[:,1].tolist())\n",
    "d30_tot = tot_supply[-31:-1]\n",
    "inc_circ = np.zeros(29)\n",
    "inc_tot = np.zeros(29)\n",
    "for i in np.arange(29):\n",
    "    inc_circ[i] = d30_circ[i+1] - d30_circ[i]\n",
    "    inc_tot[i] = d30_tot[i+1] - d30_tot[i]"
   ]
  },
  {
   "cell_type": "code",
   "execution_count": 11,
   "metadata": {},
   "outputs": [
    {
     "data": {
      "text/plain": [
       "<function matplotlib.pyplot.show(*args, **kw)>"
      ]
     },
     "execution_count": 11,
     "metadata": {},
     "output_type": "execute_result"
    },
    {
     "data": {
      "image/png": "[encoded data removed]",
      "text/plain": [
       "<Figure size 432x288 with 1 Axes>"
      ]
     },
     "metadata": {
      "needs_background": "light"
     },
     "output_type": "display_data"
    }
   ],
   "source": [
    "plt.plot(np.arange(29), inc_circ, color = 'red')\n",
    "plt.plot(np.arange(29), inc_tot)\n",
    "plt.show"
   ]
  },
  {
   "cell_type": "code",
   "execution_count": 12,
   "metadata": {},
   "outputs": [
    {
     "data": {
      "text/plain": [
       "<function matplotlib.pyplot.show(*args, **kw)>"
      ]
     },
     "execution_count": 12,
     "metadata": {},
     "output_type": "execute_result"
    },
    {
     "data": {
      "image/png": "[encoded data removed]",
      "text/plain": [
       "<Figure size 432x288 with 1 Axes>"
      ]
     },
     "metadata": {
      "needs_background": "light"
     },
     "output_type": "display_data"
    }
   ],
   "source": [
    "plt.plot(np.arange(30), d30_circ, color = 'red')\n",
    "plt.plot(np.arange(30), d30_tot)\n",
    "plt.show"
   ]
  },
  {
   "cell_type": "code",
   "execution_count": 13,
   "metadata": {},
   "outputs": [
    {
     "data": {
      "text/plain": [
       "<function matplotlib.pyplot.show(*args, **kw)>"
      ]
     },
     "execution_count": 13,
     "metadata": {},
     "output_type": "execute_result"
    },
    {
     "data": {
      "image/png": "[encoded data removed]",
      "text/plain": [
       "<Figure size 432x288 with 1 Axes>"
      ]
     },
     "metadata": {
      "needs_background": "light"
     },
     "output_type": "display_data"
    }
   ],
   "source": [
    "d60_circ = circ_supply[-61:-1]\n",
    "d60_tot = tot_supply[-61:-1]\n",
    "plt.plot(np.arange(60), d60_circ, color = 'red')\n",
    "plt.plot(np.arange(60), d60_tot)\n",
    "plt.show"
   ]
  },
  {
   "cell_type": "code",
   "execution_count": 14,
   "metadata": {},
   "outputs": [
    {
     "data": {
      "text/plain": [
       "<function matplotlib.pyplot.show(*args, **kw)>"
      ]
     },
     "execution_count": 14,
     "metadata": {},
     "output_type": "execute_result"
    },
    {
     "data": {
      "image/png": "[encoded data removed]",
      "text/plain": [
       "<Figure size 432x288 with 1 Axes>"
      ]
     },
     "metadata": {
      "needs_background": "light"
     },
     "output_type": "display_data"
    }
   ],
   "source": [
    "d90_circ = circ_supply[-91:-1]\n",
    "d90_tot = tot_supply[-91:-1]\n",
    "plt.plot(np.arange(90), d90_circ, color = 'red')\n",
    "plt.plot(np.arange(90), d90_tot)\n",
    "plt.show"
   ]
  },
  {
   "cell_type": "code",
   "execution_count": 15,
   "metadata": {},
   "outputs": [
    {
     "data": {
      "text/plain": [
       "<function matplotlib.pyplot.show(*args, **kw)>"
      ]
     },
     "execution_count": 15,
     "metadata": {},
     "output_type": "execute_result"
    },
    {
     "data": {
      "image/png": "[encoded data removed]",
      "text/plain": [
       "<Figure size 432x288 with 1 Axes>"
      ]
     },
     "metadata": {
      "needs_background": "light"
     },
     "output_type": "display_data"
    }
   ],
   "source": [
    "#how much of the increase in circulating supply comes from staking\n",
    "d30_circ_stk = np.zeros(30)\n",
    "d30_circ_stk[0] = d30_circ[0]\n",
    "for i in np.arange(29):\n",
    "    d30_circ_stk[i+1]=d30_circ_stk[i] * (1.002975)**3\n",
    "plt.plot(np.arange(30), d30_circ, color = 'red')\n",
    "plt.plot(np.arange(30), d30_circ_stk)\n",
    "plt.show"
   ]
  },
  {
   "cell_type": "markdown",
   "metadata": {},
   "source": [
    "significant amount of of increase in supply did not come from staking"
   ]
  },
  {
   "cell_type": "code",
   "execution_count": 16,
   "metadata": {},
   "outputs": [
    {
     "name": "stdout",
     "output_type": "stream",
     "text": [
      "[0.47918137 0.47027067 0.46077152 0.40357948 0.40386968 0.39636307\n",
      " 0.39127651 0.38724682 0.25151661 0.39215109 0.47129142 0.41326601\n",
      " 0.49985864 0.39524247 0.38870319 0.40378538 0.37595011 0.21135011\n",
      " 0.35941848 0.39337768 0.34379658 0.3369684  0.378974   0.35647785\n",
      " 0.34537102 0.34377411 0.10312884 0.33375134 0.33507107]\n"
     ]
    }
   ],
   "source": [
    "#how much exactly does staking reward constitutes in each day's supply\n",
    "d30_stk_pct = np.zeros(29)\n",
    "for i in np.arange(29):\n",
    "    d30_stk_pct[i] = (d30_circ[i+1] - d30_circ[i] * (1.002975)**3)/(d30_circ[i+1] - d30_circ[i])\n",
    "print(d30_stk_pct)"
   ]
  },
  {
   "cell_type": "markdown",
   "metadata": {},
   "source": [
    "Not much!"
   ]
  },
  {
   "cell_type": "markdown",
   "metadata": {},
   "source": [
    "### Fitting and predicting OHM supply"
   ]
  },
  {
   "cell_type": "code",
   "execution_count": 17,
   "metadata": {},
   "outputs": [],
   "source": [
    "def exponential (x,a,b,c):\n",
    "    return a*np.exp(b*x)+c"
   ]
  },
  {
   "cell_type": "code",
   "execution_count": 18,
   "metadata": {},
   "outputs": [],
   "source": [
    "params, covs = curve_fit(exponential, idx_std, circ_supply)"
   ]
  },
  {
   "cell_type": "code",
   "execution_count": 19,
   "metadata": {},
   "outputs": [
    {
     "data": {
      "text/plain": [
       "array([ 1.40268811e+05,  3.55591906e+00, -1.00584911e+05])"
      ]
     },
     "execution_count": 19,
     "metadata": {},
     "output_type": "execute_result"
    }
   ],
   "source": [
    "a, b, c = params\n",
    "params"
   ]
  },
  {
   "cell_type": "markdown",
   "metadata": {},
   "source": [
    "Thus, the supply $y$ follow the formula with respect to $x$ (days since 3/23/21): $y=140268e^{3.56x}-100584$"
   ]
  },
  {
   "cell_type": "code",
   "execution_count": 20,
   "metadata": {},
   "outputs": [
    {
     "data": {
      "text/plain": [
       "4811627.52438348"
      ]
     },
     "execution_count": 20,
     "metadata": {},
     "output_type": "execute_result"
    }
   ],
   "source": [
    "y_pred = a*np.exp(idx_std*b)+c\n",
    "y_pred[-1]"
   ]
  },
  {
   "cell_type": "markdown",
   "metadata": {},
   "source": [
    "Compare the predicted value with the labels"
   ]
  },
  {
   "cell_type": "code",
   "execution_count": 21,
   "metadata": {},
   "outputs": [
    {
     "data": {
      "image/png": "[encoded data removed]",
      "text/plain": [
       "<Figure size 432x288 with 1 Axes>"
      ]
     },
     "metadata": {
      "needs_background": "light"
     },
     "output_type": "display_data"
    }
   ],
   "source": [
    "plt.scatter(np.arange(245), y_pred)\n",
    "plt.scatter(np.arange(245), circ_supply)\n",
    "plt.show()"
   ]
  },
  {
   "cell_type": "code",
   "execution_count": 28,
   "metadata": {},
   "outputs": [
    {
     "data": {
      "text/plain": [
       "0.9998491276211584"
      ]
     },
     "execution_count": 28,
     "metadata": {},
     "output_type": "execute_result"
    }
   ],
   "source": [
    "#fing the r squared\n",
    "ss_res = np.sum((y_pred - circ_supply)**2)\n",
    "ss_tot = np.sum((circ_supply-np.mean(circ_supply))**2)\n",
    "r2 = 1-(ss_res/ss_tot)\n",
    "r2"
   ]
  },
  {
   "cell_type": "markdown",
   "metadata": {},
   "source": [
    "It's a weird phenomena that we have such a high $R^2$ - over 99%. A possible theory would be the policy team is deliberatly targeting this curve. It would be interesting to see what the supply is like in the future and if it maintains this trend."
   ]
  },
  {
   "cell_type": "markdown",
   "metadata": {},
   "source": [
    "Note: While this method is very likely to overestimate the OHM supply, especially far into the future, for a shorter timeframe it is likely to give a relativly accurate result. It would take drastic change in the policy, or staking/bonding activities to deviate the curve from its current form significantly. Since we are looking to estimate the yield for the next 6 month - 1 year, this curve should give a reasonable estimate. And the supply curve will almost always remain an exponential curve since the staking rewards are distributed based on the current circulating OHMs. Unless the DAO starts buying back OHM and burning them, the curve will always be convex. And if that were to really happpen (burning OHM), it would mean that OHM price drops below 1USD. Given the current price of around 800USD, that would be a disasterous outcome no matter the yield.\n"
   ]
  },
  {
   "cell_type": "markdown",
   "metadata": {},
   "source": [
    "### Find the corresponding reward rate based on the supply schedule"
   ]
  },
  {
   "cell_type": "code",
   "execution_count": 76,
   "metadata": {},
   "outputs": [
    {
     "name": "stdout",
     "output_type": "stream",
     "text": [
      "2022-01-10 00:00:00\n"
     ]
    }
   ],
   "source": [
    "#find the day circulating supply reaches 10m\n",
    "days_till_10m = np.log((10000000-c)/a)/b\n",
    "start_time = pd.to_datetime('2021-3-23')\n",
    "date_10m = start_time + timedelta(int(days_till_10m*244))\n",
    "print(date_10m)"
   ]
  },
  {
   "cell_type": "code",
   "execution_count": 77,
   "metadata": {},
   "outputs": [
    {
     "name": "stdout",
     "output_type": "stream",
     "text": [
      "2022-06-16 00:00:00\n"
     ]
    }
   ],
   "source": [
    "#find the day circ supply reaches 100m\n",
    "days_till_100m = np.log((100000000-c)/a)/b\n",
    "date_100m = start_time + timedelta(int(days_till_100m*244))\n",
    "print(date_100m)"
   ]
  },
  {
   "cell_type": "code",
   "execution_count": 78,
   "metadata": {},
   "outputs": [
    {
     "name": "stdout",
     "output_type": "stream",
     "text": [
      "2022-11-21 00:00:00\n"
     ]
    }
   ],
   "source": [
    "#find the day circ supply reaches 1b\n",
    "days_till_1b = np.log((1000000000-c)/a)/b\n",
    "date_1b = start_time + timedelta(int(days_till_1b*244))\n",
    "print(date_1b)"
   ]
  },
  {
   "cell_type": "markdown",
   "metadata": {},
   "source": [
    "According to OlympusDao documents, the reward rate per epoch when the supply is between 10 and 100m will be between 0.1186% to 0.1587%. Thus, we propose three cases for the reward rate, being low, mid, high, respectivly."
   ]
  },
  {
   "cell_type": "code",
   "execution_count": 79,
   "metadata": {},
   "outputs": [],
   "source": [
    "#based on the exponential model, what would be the yield like\n",
    "rate_10m = (1+(0.002957/0.9))**3\n",
    "rate_100m_h = (1+(0.001587/0.9))**3\n",
    "rate_100m_m = (1+(0.0013/0.9))**3\n",
    "rate_100m_l = (1+(0.001186/0.9))**3\n",
    "init_ohm = 1\n",
    "init_date = pd.to_datetime('2021-11-23')"
   ]
  },
  {
   "cell_type": "markdown",
   "metadata": {},
   "source": [
    "Based on the reward rates, find the yield based on each cases"
   ]
  },
  {
   "cell_type": "code",
   "execution_count": 86,
   "metadata": {},
   "outputs": [
    {
     "name": "stdout",
     "output_type": "stream",
     "text": [
      "amount I own on 2022-06-16 00:00:00 for staking 1 OHM: 3.677168682369163 OHMs\n"
     ]
    },
    {
     "data": {
      "text/plain": [
       "<function matplotlib.pyplot.show(*args, **kw)>"
      ]
     },
     "execution_count": 86,
     "metadata": {},
     "output_type": "execute_result"
    },
    {
     "data": {
      "image/png": "[encoded data removed]",
      "text/plain": [
       "<Figure size 432x288 with 1 Axes>"
      ]
     },
     "metadata": {
      "needs_background": "light"
     },
     "output_type": "display_data"
    }
   ],
   "source": [
    "#amount of ohm owned till total supply reaches 100m\n",
    "days_till_100m = (date_100m - init_date).days\n",
    "days_till_10m = (date_10m - init_date).days\n",
    "#high\n",
    "iown_h = np.zeros(days_till_100m+1)\n",
    "iown_h[0] = init_ohm\n",
    "for i in np.arange(days_till_10m):\n",
    "    iown_h[i+1] = iown_h[i] * rate_10m\n",
    "for i in np.arange(days_till_10m, days_till_100m):\n",
    "    iown_h[i+1] = iown_h[i] * rate_100m_h\n",
    "print(f'Amount I own on {date_100m} for staking {init_ohm} OHM: {iown_h[-1]} OHMs')\n",
    "plt.plot(np.arange(days_till_100m+1), iown_h, color = 'red')\n",
    "plt.show"
   ]
  },
  {
   "cell_type": "code",
   "execution_count": 87,
   "metadata": {},
   "outputs": [
    {
     "name": "stdout",
     "output_type": "stream",
     "text": [
      "Amount I own on 2022-06-16 00:00:00 for staking 1 OHM: 3.1651071868961864 OHMs\n"
     ]
    },
    {
     "data": {
      "text/plain": [
       "<function matplotlib.pyplot.show(*args, **kw)>"
      ]
     },
     "execution_count": 87,
     "metadata": {},
     "output_type": "execute_result"
    },
    {
     "data": {
      "image/png": "[encoded data removed]",
      "text/plain": [
       "<Figure size 432x288 with 1 Axes>"
      ]
     },
     "metadata": {
      "needs_background": "light"
     },
     "output_type": "display_data"
    }
   ],
   "source": [
    "#mid\n",
    "iown_m = np.zeros(days_till_100m+1)\n",
    "iown_m[0] = init_ohm\n",
    "for i in np.arange(days_till_10m):\n",
    "    iown_m[i+1] = iown_m[i] * rate_10m\n",
    "for i in np.arange(days_till_10m, days_till_100m):\n",
    "    iown_m[i+1] = iown_m[i] * rate_100m_m\n",
    "print(f'Amount I own on {date_100m} for staking {init_ohm} OHM: {iown_m[-1]} OHMs')\n",
    "plt.plot(np.arange(days_till_100m+1), iown_m, color = 'red')\n",
    "plt.show"
   ]
  },
  {
   "cell_type": "code",
   "execution_count": 88,
   "metadata": {},
   "outputs": [
    {
     "name": "stdout",
     "output_type": "stream",
     "text": [
      "Amount I own on 2022-06-16 00:00:00 for staking 1 OHM: 2.982044695639261 OHMs\n"
     ]
    },
    {
     "data": {
      "text/plain": [
       "<function matplotlib.pyplot.show(*args, **kw)>"
      ]
     },
     "execution_count": 88,
     "metadata": {},
     "output_type": "execute_result"
    },
    {
     "data": {
      "image/png": "[encoded data removed]",
      "text/plain": [
       "<Figure size 432x288 with 1 Axes>"
      ]
     },
     "metadata": {
      "needs_background": "light"
     },
     "output_type": "display_data"
    }
   ],
   "source": [
    "#low\n",
    "iown_l = np.zeros(days_till_100m+1)\n",
    "iown_l[0] = init_ohm\n",
    "for i in np.arange(days_till_10m):\n",
    "    iown_l[i+1] = iown_l[i] * rate_10m\n",
    "for i in np.arange(days_till_10m, days_till_100m):\n",
    "    iown_l[i+1] = iown_l[i] * rate_100m_l\n",
    "print(f'Amount I own on {date_100m} for staking {init_ohm} OHM: {iown_l[-1]} OHMs')\n",
    "plt.plot(np.arange(days_till_100m+1), iown_l, color = 'red')\n",
    "plt.show"
   ]
  },
  {
   "cell_type": "markdown",
   "metadata": {},
   "source": [
    "### Conclusion"
   ]
  },
  {
   "cell_type": "markdown",
   "metadata": {},
   "source": [
    "Based on the analysis, for each OHM staked, it will turn into roughly 3.7 OHM in the best case and 3 OHM is the worse case. This might seem compelling for a 7-month timeframe. However, that beleif is built on the premise that OHM holds its value against the dollar, which is quite unlikely. The current OHM price is driven up by the artificial supply shortage created by the extraordinarily high staking rewards. Eventually, as people try to realize their gains and the APY gets lower, there will be mounting selling pressure that's going to drive down the price. "
   ]
  }
 ],
 "metadata": {
  "kernelspec": {
   "display_name": "Python 3",
   "language": "python",
   "name": "python3"
  },
  "language_info": {
   "codemirror_mode": {
    "name": "ipython",
    "version": 3
   },
   "file_extension": ".py",
   "mimetype": "text/x-python",
   "name": "python",
   "nbconvert_exporter": "python",
   "pygments_lexer": "ipython3",
   "version": "3.7.4"
  }
 },
 "nbformat": 4,
 "nbformat_minor": 2
}
